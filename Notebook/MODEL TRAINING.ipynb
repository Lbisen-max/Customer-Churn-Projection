{
 "cells": [
  {
   "cell_type": "code",
   "execution_count": 299,
   "metadata": {},
   "outputs": [],
   "source": [
    "import pandas as pd\n",
    "import numpy as np\n",
    "import matplotlib.pyplot as plt\n",
    "import seaborn as sns\n",
    "%matplotlib inline\n",
    "import warnings\n",
    "warnings.filterwarnings('ignore')\n",
    "\n",
    "from sklearn.metrics import f1_score, confusion_matrix, accuracy_score, classification_report, precision_score, recall_score\n",
    "from sklearn import metrics\n",
    "from sklearn.linear_model import LogisticRegression\n",
    "from sklearn.cluster import KMeans\n",
    "from sklearn.neighbors import KNeighborsClassifier\n",
    "from sklearn.tree import DecisionTreeClassifier\n",
    "from sklearn.ensemble import RandomForestClassifier\n",
    "from sklearn.ensemble import AdaBoostClassifier\n",
    "from sklearn.ensemble import GradientBoostingClassifier\n",
    "from sklearn.ensemble import VotingClassifier\n",
    "from sklearn.model_selection import train_test_split\n",
    "from sklearn.metrics import accuracy_score\n",
    "\n",
    "\n",
    "from sklearn.preprocessing import StandardScaler,LabelEncoder,OneHotEncoder,OrdinalEncoder\n",
    "from sklearn.compose import ColumnTransformer\n",
    "from sklearn.impute import SimpleImputer\n",
    "from sklearn.pipeline import Pipeline"
   ]
  },
  {
   "cell_type": "code",
   "execution_count": 300,
   "metadata": {},
   "outputs": [
    {
     "data": {
      "text/html": [
       "<div>\n",
       "<style scoped>\n",
       "    .dataframe tbody tr th:only-of-type {\n",
       "        vertical-align: middle;\n",
       "    }\n",
       "\n",
       "    .dataframe tbody tr th {\n",
       "        vertical-align: top;\n",
       "    }\n",
       "\n",
       "    .dataframe thead th {\n",
       "        text-align: right;\n",
       "    }\n",
       "</style>\n",
       "<table border=\"1\" class=\"dataframe\">\n",
       "  <thead>\n",
       "    <tr style=\"text-align: right;\">\n",
       "      <th></th>\n",
       "      <th>customerID</th>\n",
       "      <th>gender</th>\n",
       "      <th>SeniorCitizen</th>\n",
       "      <th>Partner</th>\n",
       "      <th>Dependents</th>\n",
       "      <th>tenure</th>\n",
       "      <th>PhoneService</th>\n",
       "      <th>MultipleLines</th>\n",
       "      <th>InternetService</th>\n",
       "      <th>OnlineSecurity</th>\n",
       "      <th>...</th>\n",
       "      <th>DeviceProtection</th>\n",
       "      <th>TechSupport</th>\n",
       "      <th>StreamingTV</th>\n",
       "      <th>StreamingMovies</th>\n",
       "      <th>Contract</th>\n",
       "      <th>PaperlessBilling</th>\n",
       "      <th>PaymentMethod</th>\n",
       "      <th>MonthlyCharges</th>\n",
       "      <th>TotalCharges</th>\n",
       "      <th>Churn</th>\n",
       "    </tr>\n",
       "  </thead>\n",
       "  <tbody>\n",
       "    <tr>\n",
       "      <th>0</th>\n",
       "      <td>7590-VHVEG</td>\n",
       "      <td>Female</td>\n",
       "      <td>0</td>\n",
       "      <td>Yes</td>\n",
       "      <td>No</td>\n",
       "      <td>1</td>\n",
       "      <td>No</td>\n",
       "      <td>No phone service</td>\n",
       "      <td>DSL</td>\n",
       "      <td>No</td>\n",
       "      <td>...</td>\n",
       "      <td>No</td>\n",
       "      <td>No</td>\n",
       "      <td>No</td>\n",
       "      <td>No</td>\n",
       "      <td>Month-to-month</td>\n",
       "      <td>Yes</td>\n",
       "      <td>Electronic check</td>\n",
       "      <td>29.85</td>\n",
       "      <td>29.85</td>\n",
       "      <td>No</td>\n",
       "    </tr>\n",
       "    <tr>\n",
       "      <th>1</th>\n",
       "      <td>5575-GNVDE</td>\n",
       "      <td>Male</td>\n",
       "      <td>0</td>\n",
       "      <td>No</td>\n",
       "      <td>No</td>\n",
       "      <td>34</td>\n",
       "      <td>Yes</td>\n",
       "      <td>No</td>\n",
       "      <td>DSL</td>\n",
       "      <td>Yes</td>\n",
       "      <td>...</td>\n",
       "      <td>Yes</td>\n",
       "      <td>No</td>\n",
       "      <td>No</td>\n",
       "      <td>No</td>\n",
       "      <td>One year</td>\n",
       "      <td>No</td>\n",
       "      <td>Mailed check</td>\n",
       "      <td>56.95</td>\n",
       "      <td>1889.5</td>\n",
       "      <td>No</td>\n",
       "    </tr>\n",
       "    <tr>\n",
       "      <th>2</th>\n",
       "      <td>3668-QPYBK</td>\n",
       "      <td>Male</td>\n",
       "      <td>0</td>\n",
       "      <td>No</td>\n",
       "      <td>No</td>\n",
       "      <td>2</td>\n",
       "      <td>Yes</td>\n",
       "      <td>No</td>\n",
       "      <td>DSL</td>\n",
       "      <td>Yes</td>\n",
       "      <td>...</td>\n",
       "      <td>No</td>\n",
       "      <td>No</td>\n",
       "      <td>No</td>\n",
       "      <td>No</td>\n",
       "      <td>Month-to-month</td>\n",
       "      <td>Yes</td>\n",
       "      <td>Mailed check</td>\n",
       "      <td>53.85</td>\n",
       "      <td>108.15</td>\n",
       "      <td>Yes</td>\n",
       "    </tr>\n",
       "    <tr>\n",
       "      <th>3</th>\n",
       "      <td>7795-CFOCW</td>\n",
       "      <td>Male</td>\n",
       "      <td>0</td>\n",
       "      <td>No</td>\n",
       "      <td>No</td>\n",
       "      <td>45</td>\n",
       "      <td>No</td>\n",
       "      <td>No phone service</td>\n",
       "      <td>DSL</td>\n",
       "      <td>Yes</td>\n",
       "      <td>...</td>\n",
       "      <td>Yes</td>\n",
       "      <td>Yes</td>\n",
       "      <td>No</td>\n",
       "      <td>No</td>\n",
       "      <td>One year</td>\n",
       "      <td>No</td>\n",
       "      <td>Bank transfer (automatic)</td>\n",
       "      <td>42.30</td>\n",
       "      <td>1840.75</td>\n",
       "      <td>No</td>\n",
       "    </tr>\n",
       "    <tr>\n",
       "      <th>4</th>\n",
       "      <td>9237-HQITU</td>\n",
       "      <td>Female</td>\n",
       "      <td>0</td>\n",
       "      <td>No</td>\n",
       "      <td>No</td>\n",
       "      <td>2</td>\n",
       "      <td>Yes</td>\n",
       "      <td>No</td>\n",
       "      <td>Fiber optic</td>\n",
       "      <td>No</td>\n",
       "      <td>...</td>\n",
       "      <td>No</td>\n",
       "      <td>No</td>\n",
       "      <td>No</td>\n",
       "      <td>No</td>\n",
       "      <td>Month-to-month</td>\n",
       "      <td>Yes</td>\n",
       "      <td>Electronic check</td>\n",
       "      <td>70.70</td>\n",
       "      <td>151.65</td>\n",
       "      <td>Yes</td>\n",
       "    </tr>\n",
       "  </tbody>\n",
       "</table>\n",
       "<p>5 rows × 21 columns</p>\n",
       "</div>"
      ],
      "text/plain": [
       "   customerID  gender  SeniorCitizen Partner Dependents  tenure PhoneService   \n",
       "0  7590-VHVEG  Female              0     Yes         No       1           No  \\\n",
       "1  5575-GNVDE    Male              0      No         No      34          Yes   \n",
       "2  3668-QPYBK    Male              0      No         No       2          Yes   \n",
       "3  7795-CFOCW    Male              0      No         No      45           No   \n",
       "4  9237-HQITU  Female              0      No         No       2          Yes   \n",
       "\n",
       "      MultipleLines InternetService OnlineSecurity  ... DeviceProtection   \n",
       "0  No phone service             DSL             No  ...               No  \\\n",
       "1                No             DSL            Yes  ...              Yes   \n",
       "2                No             DSL            Yes  ...               No   \n",
       "3  No phone service             DSL            Yes  ...              Yes   \n",
       "4                No     Fiber optic             No  ...               No   \n",
       "\n",
       "  TechSupport StreamingTV StreamingMovies        Contract PaperlessBilling   \n",
       "0          No          No              No  Month-to-month              Yes  \\\n",
       "1          No          No              No        One year               No   \n",
       "2          No          No              No  Month-to-month              Yes   \n",
       "3         Yes          No              No        One year               No   \n",
       "4          No          No              No  Month-to-month              Yes   \n",
       "\n",
       "               PaymentMethod MonthlyCharges  TotalCharges Churn  \n",
       "0           Electronic check          29.85         29.85    No  \n",
       "1               Mailed check          56.95        1889.5    No  \n",
       "2               Mailed check          53.85        108.15   Yes  \n",
       "3  Bank transfer (automatic)          42.30       1840.75    No  \n",
       "4           Electronic check          70.70        151.65   Yes  \n",
       "\n",
       "[5 rows x 21 columns]"
      ]
     },
     "execution_count": 300,
     "metadata": {},
     "output_type": "execute_result"
    }
   ],
   "source": [
    "data = pd.read_csv(r'D:\\customer\\customer_churn\\Notebook\\data\\WA_Fn-UseC_-Telco-Customer-Churn.csv')\n",
    "data.head()"
   ]
  },
  {
   "cell_type": "code",
   "execution_count": 301,
   "metadata": {},
   "outputs": [],
   "source": [
    "\n",
    "data['TotalCharges']=data['TotalCharges'].replace(\" \",np.nan)\n",
    "data=data[data['TotalCharges'].notnull()]\n"
   ]
  },
  {
   "cell_type": "code",
   "execution_count": 302,
   "metadata": {},
   "outputs": [],
   "source": [
    "data = data.reset_index()[data.columns]\n",
    "data['TotalCharges'] = data['TotalCharges'].astype(float)"
   ]
  },
  {
   "cell_type": "code",
   "execution_count": 303,
   "metadata": {},
   "outputs": [
    {
     "name": "stdout",
     "output_type": "stream",
     "text": [
      "customerID\n",
      "['7590-VHVEG' '5575-GNVDE' '3668-QPYBK' ... '4801-JZAZL' '8361-LTMKD'\n",
      " '3186-AJIEK']\n",
      "******************************\n",
      "gender\n",
      "['Female' 'Male']\n",
      "******************************\n",
      "SeniorCitizen\n",
      "[0 1]\n",
      "******************************\n",
      "Partner\n",
      "['Yes' 'No']\n",
      "******************************\n",
      "Dependents\n",
      "['No' 'Yes']\n",
      "******************************\n",
      "tenure\n",
      "[ 1 34  2 45  8 22 10 28 62 13 16 58 49 25 69 52 71 21 12 30 47 72 17 27\n",
      "  5 46 11 70 63 43 15 60 18 66  9  3 31 50 64 56  7 42 35 48 29 65 38 68\n",
      " 32 55 37 36 41  6  4 33 67 23 57 61 14 20 53 40 59 24 44 19 54 51 26 39]\n",
      "******************************\n",
      "PhoneService\n",
      "['No' 'Yes']\n",
      "******************************\n",
      "MultipleLines\n",
      "['No phone service' 'No' 'Yes']\n",
      "******************************\n",
      "InternetService\n",
      "['DSL' 'Fiber optic' 'No']\n",
      "******************************\n",
      "OnlineSecurity\n",
      "['No' 'Yes' 'No internet service']\n",
      "******************************\n",
      "OnlineBackup\n",
      "['Yes' 'No' 'No internet service']\n",
      "******************************\n",
      "DeviceProtection\n",
      "['No' 'Yes' 'No internet service']\n",
      "******************************\n",
      "TechSupport\n",
      "['No' 'Yes' 'No internet service']\n",
      "******************************\n",
      "StreamingTV\n",
      "['No' 'Yes' 'No internet service']\n",
      "******************************\n",
      "StreamingMovies\n",
      "['No' 'Yes' 'No internet service']\n",
      "******************************\n",
      "Contract\n",
      "['Month-to-month' 'One year' 'Two year']\n",
      "******************************\n",
      "PaperlessBilling\n",
      "['Yes' 'No']\n",
      "******************************\n",
      "PaymentMethod\n",
      "['Electronic check' 'Mailed check' 'Bank transfer (automatic)'\n",
      " 'Credit card (automatic)']\n",
      "******************************\n",
      "MonthlyCharges\n",
      "[29.85 56.95 53.85 ... 63.1  44.2  78.7 ]\n",
      "******************************\n",
      "TotalCharges\n",
      "[  29.85 1889.5   108.15 ...  346.45  306.6  6844.5 ]\n",
      "******************************\n",
      "Churn\n",
      "['No' 'Yes']\n",
      "******************************\n"
     ]
    }
   ],
   "source": [
    "# checking the unique values of the clumns\n",
    "for col in data.describe(include='all').columns:\n",
    "    print(col)\n",
    "    print(data[col].unique())\n",
    "    print('*'*30)"
   ]
  },
  {
   "cell_type": "code",
   "execution_count": 304,
   "metadata": {},
   "outputs": [],
   "source": [
    "def replace_data(column):\n",
    "    column = column.str.replace('No internet service', 'No')\n",
    "    column = column.str.replace('No phone service', 'No')\n",
    "    return column"
   ]
  },
  {
   "cell_type": "code",
   "execution_count": 305,
   "metadata": {},
   "outputs": [],
   "source": [
    "data['MultipleLines'] = replace_data(data['MultipleLines'])\n",
    "data['OnlineSecurity'] = replace_data(data['OnlineSecurity'])\n",
    "data['OnlineBackup'] = replace_data(data['OnlineBackup'])\n",
    "data['DeviceProtection'] = replace_data(data['DeviceProtection'])\n",
    "data['TechSupport'] = replace_data(data['TechSupport'])\n",
    "data['StreamingTV'] = replace_data(data['StreamingTV'])\n",
    "data['StreamingMovies'] = replace_data(data['StreamingMovies'])"
   ]
  },
  {
   "cell_type": "code",
   "execution_count": 306,
   "metadata": {},
   "outputs": [
    {
     "name": "stdout",
     "output_type": "stream",
     "text": [
      "customerID\n",
      "['7590-VHVEG' '5575-GNVDE' '3668-QPYBK' ... '4801-JZAZL' '8361-LTMKD'\n",
      " '3186-AJIEK']\n",
      "******************************\n",
      "gender\n",
      "['Female' 'Male']\n",
      "******************************\n",
      "Partner\n",
      "['Yes' 'No']\n",
      "******************************\n",
      "Dependents\n",
      "['No' 'Yes']\n",
      "******************************\n",
      "PhoneService\n",
      "['No' 'Yes']\n",
      "******************************\n",
      "MultipleLines\n",
      "['No' 'Yes']\n",
      "******************************\n",
      "InternetService\n",
      "['DSL' 'Fiber optic' 'No']\n",
      "******************************\n",
      "OnlineSecurity\n",
      "['No' 'Yes']\n",
      "******************************\n",
      "OnlineBackup\n",
      "['Yes' 'No']\n",
      "******************************\n",
      "DeviceProtection\n",
      "['No' 'Yes']\n",
      "******************************\n",
      "TechSupport\n",
      "['No' 'Yes']\n",
      "******************************\n",
      "StreamingTV\n",
      "['No' 'Yes']\n",
      "******************************\n",
      "StreamingMovies\n",
      "['No' 'Yes']\n",
      "******************************\n",
      "Contract\n",
      "['Month-to-month' 'One year' 'Two year']\n",
      "******************************\n",
      "PaperlessBilling\n",
      "['Yes' 'No']\n",
      "******************************\n",
      "PaymentMethod\n",
      "['Electronic check' 'Mailed check' 'Bank transfer (automatic)'\n",
      " 'Credit card (automatic)']\n",
      "******************************\n",
      "Churn\n",
      "['No' 'Yes']\n",
      "******************************\n"
     ]
    }
   ],
   "source": [
    "for i in data.describe(include=object).columns:\n",
    "    print(i)\n",
    "    print(data[i].unique())\n",
    "    print(\"*\"*30)\n"
   ]
  },
  {
   "cell_type": "code",
   "execution_count": 307,
   "metadata": {},
   "outputs": [],
   "source": [
    "from sklearn.utils import resample\n",
    "\n",
    "\n",
    "def upsample_minority_class(data, minority_class_label, majority_class_label):\n",
    "    minority = data[data['Churn'] == minority_class_label]\n",
    "    majority = data[data['Churn'] == majority_class_label]\n",
    "\n",
    "    minority_upsampled = resample(minority, replace=True, n_samples=majority.shape[0])\n",
    "\n",
    "    upsampled_data = pd.concat([minority_upsampled, majority], axis=0)\n",
    "\n",
    "    return upsampled_data"
   ]
  },
  {
   "cell_type": "code",
   "execution_count": 308,
   "metadata": {},
   "outputs": [],
   "source": [
    "data = upsample_minority_class(data, 'Yes', 'No')\n"
   ]
  },
  {
   "cell_type": "code",
   "execution_count": 309,
   "metadata": {},
   "outputs": [
    {
     "data": {
      "text/plain": [
       "(10326, 21)"
      ]
     },
     "execution_count": 309,
     "metadata": {},
     "output_type": "execute_result"
    }
   ],
   "source": [
    "data.shape"
   ]
  },
  {
   "cell_type": "code",
   "execution_count": 310,
   "metadata": {},
   "outputs": [],
   "source": [
    "# Seprating the independet & dependent feature \n",
    "\n",
    "X = data.drop(columns=['Churn','customerID'])\n",
    "y = data['Churn']"
   ]
  },
  {
   "cell_type": "code",
   "execution_count": 311,
   "metadata": {},
   "outputs": [],
   "source": [
    "# seperating the numeric and categorical data and creating columns transformers \n",
    "num_featurs = X.select_dtypes(exclude='object').columns\n",
    "cat_featurs = X.select_dtypes(include='object').columns"
   ]
  },
  {
   "cell_type": "code",
   "execution_count": 312,
   "metadata": {},
   "outputs": [
    {
     "data": {
      "text/plain": [
       "Index(['SeniorCitizen', 'tenure', 'MonthlyCharges', 'TotalCharges'], dtype='object')"
      ]
     },
     "execution_count": 312,
     "metadata": {},
     "output_type": "execute_result"
    }
   ],
   "source": [
    "num_featurs"
   ]
  },
  {
   "cell_type": "code",
   "execution_count": 313,
   "metadata": {},
   "outputs": [
    {
     "data": {
      "text/plain": [
       "Index(['gender', 'Partner', 'Dependents', 'PhoneService', 'MultipleLines',\n",
       "       'InternetService', 'OnlineSecurity', 'OnlineBackup', 'DeviceProtection',\n",
       "       'TechSupport', 'StreamingTV', 'StreamingMovies', 'Contract',\n",
       "       'PaperlessBilling', 'PaymentMethod'],\n",
       "      dtype='object')"
      ]
     },
     "execution_count": 313,
     "metadata": {},
     "output_type": "execute_result"
    }
   ],
   "source": [
    "cat_featurs"
   ]
  },
  {
   "cell_type": "code",
   "execution_count": 314,
   "metadata": {},
   "outputs": [],
   "source": [
    "# initializing the transformer\n",
    "numeric_transformer = StandardScaler()\n",
    "encoder = OrdinalEncoder()\n",
    "\n",
    "# creating colum transformer \n",
    "\n",
    "preprocessor = ColumnTransformer(\n",
    "    [(\"Onehotencoding\",encoder,cat_featurs),\n",
    "    (\"StandardScaler\",numeric_transformer,num_featurs)])\n"
   ]
  },
  {
   "cell_type": "code",
   "execution_count": 315,
   "metadata": {},
   "outputs": [],
   "source": [
    "X = preprocessor.fit_transform(X)"
   ]
  },
  {
   "cell_type": "code",
   "execution_count": 316,
   "metadata": {},
   "outputs": [
    {
     "data": {
      "text/plain": [
       "(10326, 19)"
      ]
     },
     "execution_count": 316,
     "metadata": {},
     "output_type": "execute_result"
    }
   ],
   "source": [
    "X.shape"
   ]
  },
  {
   "cell_type": "code",
   "execution_count": 317,
   "metadata": {},
   "outputs": [],
   "source": [
    "# encoding the features also\n",
    "label_encoder = LabelEncoder()\n",
    "y=label_encoder.fit_transform(y)"
   ]
  },
  {
   "cell_type": "code",
   "execution_count": 318,
   "metadata": {},
   "outputs": [
    {
     "data": {
      "text/plain": [
       "(10326,)"
      ]
     },
     "execution_count": 318,
     "metadata": {},
     "output_type": "execute_result"
    }
   ],
   "source": [
    "y.shape"
   ]
  },
  {
   "cell_type": "code",
   "execution_count": 319,
   "metadata": {},
   "outputs": [],
   "source": [
    "# seprating the dataset into train and test\n",
    "\n",
    "X_train,X_test,y_train,y_test = train_test_split(X,y,test_size=0.25,random_state=42)"
   ]
  },
  {
   "cell_type": "code",
   "execution_count": 320,
   "metadata": {},
   "outputs": [
    {
     "name": "stdout",
     "output_type": "stream",
     "text": [
      "X_train shappe (7744, 19)\n",
      "X_train shappe (2582, 19)\n",
      "y_train shappe (7744,)\n",
      "y_test shappe (2582,)\n"
     ]
    }
   ],
   "source": [
    "print(\"X_train shappe\",X_train.shape)\n",
    "print(\"X_train shappe\",X_test.shape)\n",
    "print(\"y_train shappe\",y_train.shape)\n",
    "print(\"y_test shappe\",y_test.shape)"
   ]
  },
  {
   "cell_type": "code",
   "execution_count": 321,
   "metadata": {},
   "outputs": [],
   "source": [
    "models = [(\"logistic regressionn\" , LogisticRegression()),\n",
    "          (\"KNN classifier\" , KNeighborsClassifier()),\n",
    "          (\"Decesion tree classifier\" , DecisionTreeClassifier()),\n",
    "          (\"Random classifier\" , RandomForestClassifier()),\n",
    "          (\"Ada boost classifier\" , AdaBoostClassifier()),\n",
    "          (\"gradient boosting classifier\" , GradientBoostingClassifier()),\n",
    "]"
   ]
  },
  {
   "cell_type": "code",
   "execution_count": 322,
   "metadata": {},
   "outputs": [
    {
     "name": "stdout",
     "output_type": "stream",
     "text": [
      "Trainning Model : logistic regressionn\n",
      "Trainning Model : KNN classifier\n",
      "Trainning Model : Decesion tree classifier\n",
      "Trainning Model : Random classifier\n",
      "Trainning Model : Ada boost classifier\n",
      "Trainning Model : gradient boosting classifier\n",
      "Evaluating model: logistic regressionn\n",
      "Confusion matrix:\n",
      "[[ 922  343]\n",
      " [ 266 1051]]\n",
      "Classification report:\n",
      "              precision    recall  f1-score   support\n",
      "\n",
      "           0       0.78      0.73      0.75      1265\n",
      "           1       0.75      0.80      0.78      1317\n",
      "\n",
      "    accuracy                           0.76      2582\n",
      "   macro avg       0.77      0.76      0.76      2582\n",
      "weighted avg       0.76      0.76      0.76      2582\n",
      "\n",
      "Evaluating model: KNN classifier\n",
      "Confusion matrix:\n",
      "[[ 845  420]\n",
      " [ 188 1129]]\n",
      "Classification report:\n",
      "              precision    recall  f1-score   support\n",
      "\n",
      "           0       0.82      0.67      0.74      1265\n",
      "           1       0.73      0.86      0.79      1317\n",
      "\n",
      "    accuracy                           0.76      2582\n",
      "   macro avg       0.77      0.76      0.76      2582\n",
      "weighted avg       0.77      0.76      0.76      2582\n",
      "\n",
      "Evaluating model: Decesion tree classifier\n",
      "Confusion matrix:\n",
      "[[ 998  267]\n",
      " [  79 1238]]\n",
      "Classification report:\n",
      "              precision    recall  f1-score   support\n",
      "\n",
      "           0       0.93      0.79      0.85      1265\n",
      "           1       0.82      0.94      0.88      1317\n",
      "\n",
      "    accuracy                           0.87      2582\n",
      "   macro avg       0.87      0.86      0.86      2582\n",
      "weighted avg       0.87      0.87      0.87      2582\n",
      "\n",
      "Evaluating model: Random classifier\n",
      "Confusion matrix:\n",
      "[[1063  202]\n",
      " [  62 1255]]\n",
      "Classification report:\n",
      "              precision    recall  f1-score   support\n",
      "\n",
      "           0       0.94      0.84      0.89      1265\n",
      "           1       0.86      0.95      0.90      1317\n",
      "\n",
      "    accuracy                           0.90      2582\n",
      "   macro avg       0.90      0.90      0.90      2582\n",
      "weighted avg       0.90      0.90      0.90      2582\n",
      "\n",
      "Evaluating model: Ada boost classifier\n",
      "Confusion matrix:\n",
      "[[ 930  335]\n",
      " [ 283 1034]]\n",
      "Classification report:\n",
      "              precision    recall  f1-score   support\n",
      "\n",
      "           0       0.77      0.74      0.75      1265\n",
      "           1       0.76      0.79      0.77      1317\n",
      "\n",
      "    accuracy                           0.76      2582\n",
      "   macro avg       0.76      0.76      0.76      2582\n",
      "weighted avg       0.76      0.76      0.76      2582\n",
      "\n",
      "Evaluating model: gradient boosting classifier\n",
      "Confusion matrix:\n",
      "[[ 929  336]\n",
      " [ 241 1076]]\n",
      "Classification report:\n",
      "              precision    recall  f1-score   support\n",
      "\n",
      "           0       0.79      0.73      0.76      1265\n",
      "           1       0.76      0.82      0.79      1317\n",
      "\n",
      "    accuracy                           0.78      2582\n",
      "   macro avg       0.78      0.78      0.78      2582\n",
      "weighted avg       0.78      0.78      0.78      2582\n",
      "\n"
     ]
    }
   ],
   "source": [
    "for name , model in models:\n",
    "    print(f\"Trainning Model : {name}\")\n",
    "    model.fit(X_train,y_train)\n",
    "\n",
    "# Make predictions and evaluate each model using confusion matrices\n",
    "\n",
    "for name , model in models:\n",
    "    print(f\"Evaluating model: {name}\")\n",
    "    y_pred =model.predict(X_test)\n",
    "    cm = confusion_matrix(y_test, y_pred)\n",
    "    print(f\"Confusion matrix:\\n{cm}\")\n",
    "    report = classification_report(y_test, y_pred)\n",
    "    print(f\"Classification report:\\n{report}\")"
   ]
  }
 ],
 "metadata": {
  "kernelspec": {
   "display_name": "Python 3",
   "language": "python",
   "name": "python3"
  },
  "language_info": {
   "codemirror_mode": {
    "name": "ipython",
    "version": 3
   },
   "file_extension": ".py",
   "mimetype": "text/x-python",
   "name": "python",
   "nbconvert_exporter": "python",
   "pygments_lexer": "ipython3",
   "version": "3.8.0"
  },
  "orig_nbformat": 4
 },
 "nbformat": 4,
 "nbformat_minor": 2
}
